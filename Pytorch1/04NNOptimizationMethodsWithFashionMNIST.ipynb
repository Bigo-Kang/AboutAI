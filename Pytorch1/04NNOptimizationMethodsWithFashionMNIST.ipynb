{
 "cells": [
  {
   "cell_type": "markdown",
   "metadata": {},
   "source": [
    "# Neural Network Optimization and Tuning"
   ]
  },
  {
   "cell_type": "code",
   "execution_count": 14,
   "metadata": {},
   "outputs": [],
   "source": [
    "import torch\n",
    "import torch.nn as nn\n",
    "import torch.nn.functional as F\n",
    "from torchvision import transforms, datasets, models\n",
    "# from torchvision import MNIST\n",
    "import numpy as np\n",
    "import matplotlib.pyplot as plt\n",
    "from torch.autograd import Variable\n",
    "from collections import namedtuple\n",
    "from IPython.display import Image\n",
    "%matplotlib inline\n",
    "np.random.seed(2020)"
   ]
  },
  {
   "cell_type": "code",
   "execution_count": 15,
   "metadata": {},
   "outputs": [],
   "source": [
    "\n",
    "# Fashion Class that enables the Dataset download and basic transformations\n",
    "# class Fashion(datasets.MNIST):\n",
    "#     def __init__(self, root, train=True, transform=None, target_transform=None, download=False):\n",
    "#         self.urls = [\n",
    "#             'http://fashion-mnist.s3-website.eu-central-1.amazonaws.com/train-images-idx3-ubyte.gz',\n",
    "#             'http://fashion-mnist.s3-website.eu-central-1.amazonaws.com/train-labels-idx1-ubyte.gz',\n",
    "#             'http://fashion-mnist.s3-website.eu-central-1.amazonaws.com/t10k-images-idx3-ubyte.gz',\n",
    "#             'http://fashion-mnist.s3-website.eu-central-1.amazonaws.com/t10k-labels-idx1-ubyte.gz',\n",
    "#         ]\n",
    "#         super(Fashion, self).__init__(\n",
    "#             root, train=train, transform=transform, target_transform=target_transform, download=False\n",
    "#         ) \n",
    "\n",
    "def decode_label(l):\n",
    "    return [\"Top\",\n",
    "     \"Trouser\",\n",
    "     \"Pullover\",\n",
    "     \"Dress\",\n",
    "     \"Coat\",\n",
    "     \"Sandal\",\n",
    "     \"Shirt\",\n",
    "     \"Sneaker\",\n",
    "     \"Bag\",\n",
    "     \"Ankle boot\"\n",
    "    ][l]"
   ]
  },
  {
   "cell_type": "code",
   "execution_count": 16,
   "metadata": {},
   "outputs": [],
   "source": [
    "trainData = datasets.FashionMNIST(root='../data', train=True, download=True, transform=transforms.Compose([\n",
    "                                    transforms.ToTensor(),\n",
    "                                    transforms.Normalize((0.1307,), (0.3081,))\n",
    "                            ]))\n",
    "\n",
    "testData = datasets.FashionMNIST(root='../data', train=False, download=True, transform=transforms.Compose([\n",
    "                                   transforms.ToTensor(),\n",
    "                                   transforms.Normalize((0.1307,), (0.3081,))\n",
    "                            ]))\n",
    "\n",
    "# train_data = Fashion('/tmp/data', train=True, download=True, transform=transforms.Compose([\n",
    "#                                     transforms.ToTensor(),\n",
    "#                                     transforms.Normalize((0.1307,), (0.3081,))\n",
    "#                             ]))\n",
    "\n",
    "# test_data = Fashion('/tmp/data', train=False, download=True, transform=transforms.Compose([\n",
    "#                                    transforms.ToTensor(),\n",
    "#                                    transforms.Normalize((0.1307,), (0.3081,))\n",
    "#                             ]))"
   ]
  },
  {
   "cell_type": "code",
   "execution_count": 17,
   "metadata": {
    "scrolled": true
   },
   "outputs": [
    {
     "name": "stderr",
     "output_type": "stream",
     "text": [
      "/Users/kangdaewon/opt/anaconda3/envs/tcenv3.8/lib/python3.8/site-packages/torchvision/datasets/mnist.py:55: UserWarning: train_data has been renamed data\n",
      "  warnings.warn(\"train_data has been renamed data\")\n",
      "/Users/kangdaewon/opt/anaconda3/envs/tcenv3.8/lib/python3.8/site-packages/torchvision/datasets/mnist.py:45: UserWarning: train_labels has been renamed targets\n",
      "  warnings.warn(\"train_labels has been renamed targets\")\n"
     ]
    },
    {
     "data": {
      "image/png": "[encoded data removed]",
      "text/plain": [
       "<Figure size 720x360 with 8 Axes>"
      ]
     },
     "metadata": {
      "needs_background": "light"
     },
     "output_type": "display_data"
    }
   ],
   "source": [
    "idxs = np.random.randint(100, size=8)\n",
    "f, a = plt.subplots(2, 4, figsize=(10, 5))\n",
    "for i in range(8):\n",
    "    X = trainData.train_data[idxs[i]]\n",
    "    Y = trainData.train_labels[idxs[i]]\n",
    "    r, c = i // 4, i % 4\n",
    "    a[r][c].set_title(decode_label(Y))\n",
    "    a[r][c].axis('off')\n",
    "    a[r][c].imshow(X.numpy())\n",
    "plt.draw()"
   ]
  },
  {
   "cell_type": "code",
   "execution_count": 18,
   "metadata": {},
   "outputs": [
    {
     "name": "stdout",
     "output_type": "stream",
     "text": [
      "FashionModel(\n",
      "  (fc1): Linear(in_features=784, out_features=64, bias=True)\n",
      "  (fc2): Linear(in_features=64, out_features=32, bias=True)\n",
      "  (fc3): Linear(in_features=32, out_features=10, bias=True)\n",
      ")\n"
     ]
    }
   ],
   "source": [
    "# Build a model\n",
    "\n",
    "class FashionModel(nn.Module):\n",
    "    def __init__(self):\n",
    "        super(FashionModel, self).__init__()\n",
    "        self.fc1 = nn.Linear(784, 64)\n",
    "        self.fc2 = nn.Linear(64, 32)\n",
    "        self.fc3 = nn.Linear(32, 10)\n",
    "        \n",
    "    def forward(self, x):\n",
    "        x = F.relu(self.fc1(x))\n",
    "        x = F.relu(self.fc2(x))\n",
    "        x = F.log_softmax(self.fc3(x))\n",
    "        return x\n",
    "print(FashionModel())\n",
    "    "
   ]
  },
  {
   "cell_type": "code",
   "execution_count": 19,
   "metadata": {},
   "outputs": [
    {
     "name": "stderr",
     "output_type": "stream",
     "text": [
      "/Users/kangdaewon/opt/anaconda3/envs/tcenv3.8/lib/python3.8/site-packages/torchvision/datasets/mnist.py:60: UserWarning: test_data has been renamed data\n",
      "  warnings.warn(\"test_data has been renamed data\")\n"
     ]
    }
   ],
   "source": [
    "trainSize = trainData.train_data.shape[0]\n",
    "valSize, trainSize = int(0.20 * trainSize), int(0.80 * trainSize) # 80/20 train-val split\n",
    "testSize = testData.test_data.shape[0]\n",
    "batchSize = 100\n",
    "\n",
    "# Add dataset to dataloader that handles batching\n",
    "trainLoader = torch.utils.data.DataLoader(\n",
    "    trainData, batch_size=batchSize, \n",
    "    sampler=torch.utils.data.sampler.SubsetRandomSampler(\n",
    "        np.arange(valSize, valSize + trainSize)))\n",
    "valLoader = torch.utils.data.DataLoader(\n",
    "    trainData, batch_size=batchSize, \n",
    "    sampler=torch.utils.data.sampler.SubsetRandomSampler(\n",
    "        np.arange(0, valSize)))\n",
    "testLoader = torch.utils.data.DataLoader(testData, batch_size=batchSize, shuffle=False)\n",
    "\n",
    "# Setup metric class\n",
    "Metric = namedtuple('Metric', ['loss', 'trainError', 'valError'])"
   ]
  },
  {
   "cell_type": "code",
   "execution_count": 11,
   "metadata": {},
   "outputs": [],
   "source": [
    "def inference(model, loader, nMembers):\n",
    "    correct = 0\n",
    "    for data, label in loader:\n",
    "        X = Variable(data.view(-1, 784))\n",
    "        Y = Variable(label)\n",
    "        out = model(X)\n",
    "        pred = out.data.max(1, keepdim=True)[1]\n",
    "        predicted = pred.eq(Y.data.view_as(pred))\n",
    "        correct += predicted.sum()\n",
    "    return correct.numpy() / nMembers\n",
    "\n",
    "class Trainer():\n",
    "    \"\"\"\n",
    "    A simple training cradle\n",
    "    \"\"\"\n",
    "    def __init__(self, model, optimizer, load_path=None):\n",
    "        self.model = model\n",
    "        if load_path is not None:\n",
    "            self.model = torch.load(load_path)\n",
    "        self.optimizer = optimizer\n",
    "    \n",
    "    def saveModel(self, path):\n",
    "        torch.save(self.model.state_dict(), path)\n",
    "    \n",
    "    def run(self, epochs):\n",
    "        print(\"Start Traning...\")\n",
    "        self.metrics = []\n",
    "        for e in range(nEpochs):\n",
    "            epoch_loss = 0\n",
    "            correct = 0\n",
    "            for batchIdx, (data, label) in enumerate(trainLoader):\n",
    "                self.optimizer.zero_grad()\n",
    "                X = Variable(data.view(-1, 784))\n",
    "                Y = Variable(label)\n",
    "                out = self.model(X)\n",
    "                pred = out.data.max(1, keepdim=True)[1]\n",
    "                predicted = pred.eq(Y.data.view_as(pred))\n",
    "                correct += predicted.sum()\n",
    "                loss = F.nll_loss(out, Y)\n",
    "                loss.backward()\n",
    "                self.optimizer.step()\n",
    "                epoch_loss += loss.data\n",
    "            totalLoss = epoch_loss.numpy() / trainSize\n",
    "            trainError = 1.0 - correct.numpy() / trainSize\n",
    "            valError = 1.0 - inference(self.model, valLoader, totalLoss)\n",
    "            print(\"epoch : {0}, loss : {1:.8f}\".format(e+1, totalLoss))\n",
    "            self.metrics.append(Metric(loss=totalLoss, trainError=trainError, valError=valError))"
   ]
  },
  {
   "cell_type": "code",
   "execution_count": 82,
   "metadata": {},
   "outputs": [
    {
     "name": "stdout",
     "output_type": "stream",
     "text": [
      "SGD OPTIMIZER\n",
      "Start Traning...\n"
     ]
    },
    {
     "name": "stderr",
     "output_type": "stream",
     "text": [
      "<ipython-input-50-3472ad39d8a6>:13: UserWarning: Implicit dimension choice for log_softmax has been deprecated. Change the call to include dim=X as an argument.\n",
      "  x = F.log_softmax(self.fc3(x))\n"
     ]
    },
    {
     "name": "stdout",
     "output_type": "stream",
     "text": [
      "epoch : 1, loss : 0.15264715\n",
      "epoch : 2, loss : 0.02375100\n",
      "epoch : 3, loss : 0.02070927\n",
      "epoch : 4, loss : 0.01904021\n",
      "epoch : 5, loss : 0.01799728\n",
      "epoch : 6, loss : 0.01717497\n",
      "epoch : 7, loss : 0.01648822\n",
      "epoch : 8, loss : 0.01601815\n",
      "\n",
      "ADAM OPTIMIZER\n",
      "Start Traning...\n",
      "epoch : 1, loss : 0.23210754\n",
      "epoch : 2, loss : 0.02123300\n",
      "epoch : 3, loss : 0.01095971\n",
      "epoch : 4, loss : 0.00836918\n",
      "epoch : 5, loss : 0.00714023\n",
      "epoch : 6, loss : 0.00645368\n",
      "epoch : 7, loss : 0.00605466\n",
      "epoch : 8, loss : 0.00577718\n",
      "\n",
      "RMSPROP OPTIMIZER\n",
      "Start Traning...\n",
      "epoch : 1, loss : 0.21220028\n",
      "epoch : 2, loss : 0.01641084\n",
      "epoch : 3, loss : 0.01106298\n",
      "epoch : 4, loss : 0.00916906\n",
      "epoch : 5, loss : 0.00839746\n",
      "epoch : 6, loss : 0.00744288\n",
      "epoch : 7, loss : 0.00723325\n",
      "epoch : 8, loss : 0.00669464\n",
      "\n",
      "Test accuracy of model optimozer with SGD : 42.33\n",
      "Test accuracy of model optimozer with Adam : 76.72\n",
      "Test accuracy of model optimozer with RMSProp : 75.67\n"
     ]
    }
   ],
   "source": [
    "# Let's train\n",
    "\n",
    "# A function of apply \"normal\" distribution on the parameters\n",
    "def init_randn(m):\n",
    "    if type(m) == nn.Linear:\n",
    "        m.weight.data.normal_(0,1)\n",
    "\n",
    "# We first initialize a Fashion Object and initialize the parameters \"normally\".\n",
    "normalModel = FashionModel()\n",
    "normalModel.apply(init_randn)\n",
    "\n",
    "nEpochs = 8\n",
    "\n",
    "print(\"SGD OPTIMIZER\")\n",
    "SGDOptimizer = torch.optim.SGD(normalModel.parameters(), lr=0.01)\n",
    "sgdTrainer = Trainer(normalModel, SGDOptimizer)\n",
    "sgdTrainer.run(nEpochs)\n",
    "sgdTrainer.saveModel('./sgdModel.pt')\n",
    "print('')\n",
    "\n",
    "print(\"ADAM OPTIMIZER\")\n",
    "normalModel = FashionModel()\n",
    "normalModel.apply(init_randn)\n",
    "AdamOptimizer = torch.optim.Adam(normalModel.parameters(), lr=0.01)\n",
    "adamTrainer = Trainer(normalModel, AdamOptimizer)\n",
    "adamTrainer.run(nEpochs)\n",
    "adamTrainer.saveModel('./adamModel.pt')\n",
    "print('')\n",
    "\n",
    "print(\"RMSPROP OPTIMIZER\")\n",
    "normalModel = FashionModel()\n",
    "normalModel.apply(init_randn)\n",
    "RMSPropOptimizer = torch.optim.RMSprop(normalModel.parameters(), lr=0.01)\n",
    "rmsTrainer = Trainer(normalModel, RMSPropOptimizer)\n",
    "rmsTrainer.run(nEpochs)\n",
    "rmsTrainer.saveModel('./rmspropModel.pt')\n",
    "print('')\n",
    "\n",
    "# Test\n",
    "model = FashionModel()\n",
    "model.load_state_dict(torch.load('./sgdModel.pt'))\n",
    "testAcc = inference(model, testLoader, testSize)\n",
    "print(\"Test accuracy of model optimozer with SGD : {0:.2f}\".format(testAcc * 100))\n",
    "\n",
    "model = FashionModel()\n",
    "model.load_state_dict(torch.load('./adamModel.pt'))\n",
    "testAcc = inference(model, testLoader, testSize)\n",
    "print(\"Test accuracy of model optimozer with Adam : {0:.2f}\".format(testAcc * 100))\n",
    "\n",
    "model = FashionModel()\n",
    "model.load_state_dict(torch.load('./rmspropModel.pt'))\n",
    "testAcc = inference(model, testLoader, testSize)\n",
    "print(\"Test accuracy of model optimozer with RMSProp : {0:.2f}\".format(testAcc * 100))"
   ]
  },
  {
   "cell_type": "code",
   "execution_count": 20,
   "metadata": {},
   "outputs": [
    {
     "ename": "NameError",
     "evalue": "name 'sgdTrainer' is not defined",
     "output_type": "error",
     "traceback": [
      "\u001b[0;31m---------------------------------------------------------------------------\u001b[0m",
      "\u001b[0;31mNameError\u001b[0m                                 Traceback (most recent call last)",
      "\u001b[0;32m<ipython-input-20-e67ff0629a92>\u001b[0m in \u001b[0;36m<module>\u001b[0;34m\u001b[0m\n\u001b[1;32m      6\u001b[0m     \u001b[0mplt\u001b[0m\u001b[0;34m.\u001b[0m\u001b[0mshow\u001b[0m\u001b[0;34m(\u001b[0m\u001b[0;34m)\u001b[0m\u001b[0;34m\u001b[0m\u001b[0;34m\u001b[0m\u001b[0m\n\u001b[1;32m      7\u001b[0m \u001b[0;34m\u001b[0m\u001b[0m\n\u001b[0;32m----> 8\u001b[0;31m \u001b[0mtrainingPlot\u001b[0m\u001b[0;34m(\u001b[0m\u001b[0msgdTrainer\u001b[0m\u001b[0;34m.\u001b[0m\u001b[0mmetrics\u001b[0m\u001b[0;34m,\u001b[0m \u001b[0;34m'sgd'\u001b[0m\u001b[0;34m)\u001b[0m\u001b[0;34m\u001b[0m\u001b[0;34m\u001b[0m\u001b[0m\n\u001b[0m\u001b[1;32m      9\u001b[0m \u001b[0mtrainingPlot\u001b[0m\u001b[0;34m(\u001b[0m\u001b[0madamTrainer\u001b[0m\u001b[0;34m.\u001b[0m\u001b[0mmetrics\u001b[0m\u001b[0;34m,\u001b[0m \u001b[0;34m'adam'\u001b[0m\u001b[0;34m)\u001b[0m\u001b[0;34m\u001b[0m\u001b[0;34m\u001b[0m\u001b[0m\n\u001b[1;32m     10\u001b[0m \u001b[0mtrainingPlot\u001b[0m\u001b[0;34m(\u001b[0m\u001b[0mrmsTrainer\u001b[0m\u001b[0;34m.\u001b[0m\u001b[0mmetrics\u001b[0m\u001b[0;34m,\u001b[0m \u001b[0;34m'rms'\u001b[0m\u001b[0;34m)\u001b[0m\u001b[0;34m\u001b[0m\u001b[0;34m\u001b[0m\u001b[0m\n",
      "\u001b[0;31mNameError\u001b[0m: name 'sgdTrainer' is not defined"
     ]
    }
   ],
   "source": [
    "# Visualization\n",
    "def trainingPlot(metrics, name):\n",
    "    plt.figure(1)\n",
    "    plt.plot([m.loss for m in metrics], 'b')\n",
    "    plt.title(name)\n",
    "    plt.show()\n",
    "    \n",
    "trainingPlot(sgdTrainer.metrics, 'sgd')\n",
    "trainingPlot(adamTrainer.metrics, 'adam')\n",
    "trainingPlot(rmsTrainer.metrics, 'rms')"
   ]
  },
  {
   "cell_type": "code",
   "execution_count": 21,
   "metadata": {},
   "outputs": [],
   "source": [
    "# Parameter Initialization\n",
    "def init_randn(m):\n",
    "    if type(m) == nn.Linear:\n",
    "        m.weight.data.normal_(0,1)"
   ]
  },
  {
   "cell_type": "code",
   "execution_count": 22,
   "metadata": {},
   "outputs": [
    {
     "data": {
      "text/plain": [
       "FashionModel(\n",
       "  (fc1): Linear(in_features=784, out_features=64, bias=True)\n",
       "  (fc2): Linear(in_features=64, out_features=32, bias=True)\n",
       "  (fc3): Linear(in_features=32, out_features=10, bias=True)\n",
       ")"
      ]
     },
     "execution_count": 22,
     "metadata": {},
     "output_type": "execute_result"
    }
   ],
   "source": [
    "normalModel = FashionModel()\n",
    "normalModel.apply(init_randn)"
   ]
  },
  {
   "cell_type": "code",
   "execution_count": 23,
   "metadata": {},
   "outputs": [],
   "source": [
    "def init_custom(m):\n",
    "    if type(m) == nn.Linear:\n",
    "        rw = torch.randn(m.weight.data.size())\n",
    "        m.weight.data.copy_(rw)"
   ]
  },
  {
   "cell_type": "code",
   "execution_count": 24,
   "metadata": {},
   "outputs": [],
   "source": [
    "def init_xavier(m):\n",
    "    if type(m) == nn.Linear:\n",
    "        fanIn = m.weight.size()[1]\n",
    "        fanOut = m.weight.size()[0]\n",
    "        std = np.sqrt(2.0 / (fanIn + fanOut))\n",
    "        m.weight.data.normal_(0, std)"
   ]
  },
  {
   "cell_type": "code",
   "execution_count": 25,
   "metadata": {},
   "outputs": [
    {
     "data": {
      "text/plain": [
       "FashionModel(\n",
       "  (fc1): Linear(in_features=784, out_features=64, bias=True)\n",
       "  (fc2): Linear(in_features=64, out_features=32, bias=True)\n",
       "  (fc3): Linear(in_features=32, out_features=10, bias=True)\n",
       ")"
      ]
     },
     "execution_count": 25,
     "metadata": {},
     "output_type": "execute_result"
    }
   ],
   "source": [
    "xavierModel = FashionModel()\n",
    "xavierModel.apply(init_xavier)"
   ]
  },
  {
   "cell_type": "code",
   "execution_count": 93,
   "metadata": {},
   "outputs": [
    {
     "name": "stdout",
     "output_type": "stream",
     "text": [
      "Normal init weights\n",
      "Start Traning...\n"
     ]
    },
    {
     "name": "stderr",
     "output_type": "stream",
     "text": [
      "<ipython-input-50-3472ad39d8a6>:13: UserWarning: Implicit dimension choice for log_softmax has been deprecated. Change the call to include dim=X as an argument.\n",
      "  x = F.log_softmax(self.fc3(x))\n"
     ]
    },
    {
     "name": "stdout",
     "output_type": "stream",
     "text": [
      "epoch : 1, loss : 1.27932845\n",
      "epoch : 2, loss : 0.28207790\n",
      "epoch : 3, loss : 0.16749630\n",
      " \n",
      "Xavier init weights\n",
      "Start Traning...\n",
      "epoch : 1, loss : 0.00561856\n",
      "epoch : 2, loss : 0.00384695\n",
      "epoch : 3, loss : 0.00342748\n",
      " \n"
     ]
    }
   ],
   "source": [
    "# Let's train\n",
    "nEpochs = 3\n",
    "print(\"Normal init weights\")\n",
    "AdamOptimizer = torch.optim.Adam(normalModel.parameters(), lr=0.001)\n",
    "normalTrainer = Trainer(normalModel, AdamOptimizer)\n",
    "normalTrainer.run(nEpochs)\n",
    "normalTrainer.saveModel('./normalModel.pt')\n",
    "print(' ')\n",
    "\n",
    "print(\"Xavier init weights\")\n",
    "AdamOptimizer = torch.optim.Adam(xavierModel.parameters(), lr=0.001)\n",
    "xavierTrainer = Trainer(xavierModel, AdamOptimizer)\n",
    "xavierTrainer.run(nEpochs)\n",
    "xavierTrainer.saveModel('./xavierModel.pt')\n",
    "print(' ')"
   ]
  },
  {
   "cell_type": "code",
   "execution_count": 26,
   "metadata": {},
   "outputs": [
    {
     "ename": "NameError",
     "evalue": "name 'normalTrainer' is not defined",
     "output_type": "error",
     "traceback": [
      "\u001b[0;31m---------------------------------------------------------------------------\u001b[0m",
      "\u001b[0;31mNameError\u001b[0m                                 Traceback (most recent call last)",
      "\u001b[0;32m<ipython-input-26-6a79aa209f91>\u001b[0m in \u001b[0;36m<module>\u001b[0;34m\u001b[0m\n\u001b[1;32m      6\u001b[0m     \u001b[0mplt\u001b[0m\u001b[0;34m.\u001b[0m\u001b[0mshow\u001b[0m\u001b[0;34m(\u001b[0m\u001b[0;34m)\u001b[0m\u001b[0;34m\u001b[0m\u001b[0;34m\u001b[0m\u001b[0m\n\u001b[1;32m      7\u001b[0m \u001b[0;34m\u001b[0m\u001b[0m\n\u001b[0;32m----> 8\u001b[0;31m \u001b[0mtrainingPlot\u001b[0m\u001b[0;34m(\u001b[0m\u001b[0mnormalTrainer\u001b[0m\u001b[0;34m.\u001b[0m\u001b[0mmetrics\u001b[0m\u001b[0;34m,\u001b[0m \u001b[0;34m'normal'\u001b[0m\u001b[0;34m)\u001b[0m\u001b[0;34m\u001b[0m\u001b[0;34m\u001b[0m\u001b[0m\n\u001b[0m\u001b[1;32m      9\u001b[0m \u001b[0mtrainingPlot\u001b[0m\u001b[0;34m(\u001b[0m\u001b[0mxavierTrainer\u001b[0m\u001b[0;34m.\u001b[0m\u001b[0mmetrics\u001b[0m\u001b[0;34m,\u001b[0m \u001b[0;34m'xavier'\u001b[0m\u001b[0;34m)\u001b[0m\u001b[0;34m\u001b[0m\u001b[0;34m\u001b[0m\u001b[0m\n",
      "\u001b[0;31mNameError\u001b[0m: name 'normalTrainer' is not defined"
     ]
    }
   ],
   "source": [
    "# Visualization\n",
    "def trainingPlot(metrics, name):\n",
    "    plt.figure(1)\n",
    "    plt.plot([m.loss for m in metrics], 'b')\n",
    "    plt.title(name)\n",
    "    plt.show()\n",
    "    \n",
    "trainingPlot(normalTrainer.metrics, 'normal')\n",
    "trainingPlot(xavierTrainer.metrics, 'xavier')\n"
   ]
  },
  {
   "cell_type": "code",
   "execution_count": 27,
   "metadata": {},
   "outputs": [],
   "source": [
    "# Using pretrained weight\n",
    "alexnetModel = models.alexnet(pretrained=True)"
   ]
  },
  {
   "cell_type": "code",
   "execution_count": 28,
   "metadata": {},
   "outputs": [],
   "source": [
    "# Batch Normalization\n",
    "class BatchNorm(nn.Module):\n",
    "    def __init__(self, numFeatures):\n",
    "        super(BatchNorm, self).__init__()\n",
    "        self.numFeatures = numFeatures\n",
    "        self.affine = affine\n",
    "        self.weight = Parameter(torch.Tensor(numFeatures))\n",
    "        self.bias = Parameter(torch.Tensor(numFeatures))\n",
    "        self.register_buffer('running_mean', torch.zeros(numFeatures))\n",
    "        self.register_buffer('running_var', torch.ones(numFeatures))\n",
    "        self.reset_parameters()\n",
    "        \n",
    "    def reset_parameters(self):\n",
    "        self.running_mean.zero_()\n",
    "        self.running_var.fill_()\n",
    "        self.weight.data.uniform_()\n",
    "        self.bias.data.zero_()\n",
    "    def forward(self, x):\n",
    "        pass"
   ]
  },
  {
   "cell_type": "code",
   "execution_count": 4,
   "metadata": {},
   "outputs": [
    {
     "name": "stdout",
     "output_type": "stream",
     "text": [
      "FashionModelTricks(\n",
      "  (fc1): Linear(in_features=784, out_features=64, bias=True)\n",
      "  (bnorm1): BatchNorm1d(64, eps=1e-05, momentum=0.1, affine=True, track_running_stats=True)\n",
      "  (dp1): Dropout(p=0.2, inplace=False)\n",
      "  (fc2): Linear(in_features=64, out_features=32, bias=True)\n",
      "  (bnorm2): BatchNorm1d(32, eps=1e-05, momentum=0.1, affine=True, track_running_stats=True)\n",
      "  (dp2): Dropout(p=0.1, inplace=False)\n",
      "  (fc3): Linear(in_features=32, out_features=10, bias=True)\n",
      ")\n"
     ]
    }
   ],
   "source": [
    "# Dropout and Regularization(weight_decay)\n",
    "class FashionModelTricks(nn.Module):\n",
    "    def __init__(self):\n",
    "        super(FashionModelTricks, self).__init__()\n",
    "        self.fc1 = nn.Linear(784, 64)\n",
    "        self.bnorm1 = nn.BatchNorm1d(64)\n",
    "        self.dp1 = nn.Dropout(p=0.2)\n",
    "        self.fc2 = nn.Linear(64, 32)\n",
    "        self.bnorm2 = nn.BatchNorm1d(32)\n",
    "        self.dp2 = nn.Dropout(p=0.1)\n",
    "        self.fc3 = nn.Linear(32, 10)\n",
    "        \n",
    "    def forward(self, x):\n",
    "        x = F.relu(self.fc1(x))\n",
    "        x = self.dp1(self.bnorm1(x))\n",
    "        x = F.relu(self.fc2(x))\n",
    "        x = self.dp2(self.bnorm2(x))\n",
    "        x = F.log_softmax(self.fc3(x))\n",
    "        return x\n",
    "print(FashionModelTricks())"
   ]
  },
  {
   "cell_type": "code",
   "execution_count": 31,
   "metadata": {},
   "outputs": [
    {
     "name": "stdout",
     "output_type": "stream",
     "text": [
      "Start Traning...\n"
     ]
    },
    {
     "name": "stderr",
     "output_type": "stream",
     "text": [
      "<ipython-input-4-9ad7257d48d2>:18: UserWarning: Implicit dimension choice for log_softmax has been deprecated. Change the call to include dim=X as an argument.\n",
      "  x = F.log_softmax(self.fc3(x))\n"
     ]
    },
    {
     "name": "stdout",
     "output_type": "stream",
     "text": [
      "epoch : 1, loss : 0.00909942\n",
      "epoch : 2, loss : 0.00554151\n",
      "epoch : 3, loss : 0.00482833\n",
      "epoch : 4, loss : 0.00449411\n",
      "epoch : 5, loss : 0.00426658\n",
      "epoch : 6, loss : 0.00409264\n",
      "epoch : 7, loss : 0.00394202\n",
      "epoch : 8, loss : 0.00382379\n",
      "epoch : 9, loss : 0.00372518\n",
      "epoch : 10, loss : 0.00366827\n"
     ]
    },
    {
     "data": {
      "image/png": "[encoded data removed]",
      "text/plain": [
       "<Figure size 432x288 with 1 Axes>"
      ]
     },
     "metadata": {
      "needs_background": "light"
     },
     "output_type": "display_data"
    },
    {
     "name": "stdout",
     "output_type": "stream",
     "text": [
      "\n"
     ]
    }
   ],
   "source": [
    "# Train models with batchnorm and dropout\n",
    "nEpochs = 10\n",
    "\n",
    "model = FashionModelTricks()\n",
    "optimizer = torch.optim.SGD(model.parameters(), lr=0.001, momentum = 0.9, weight_decay=0.001)\n",
    "btrainer = Trainer(model, optimizer)\n",
    "btrainer.run(nEpochs)\n",
    "btrainer.saveModel('./dropoutBatchnormOptimizedModel.pt')\n",
    "trainingPlot(btrainer.metrics, 'batchnorm nad dropout')\n",
    "# trainingPlot(btrainer.metrics)\n",
    "\n",
    "print('')"
   ]
  },
  {
   "cell_type": "code",
   "execution_count": null,
   "metadata": {},
   "outputs": [],
   "source": [
    "# Gradient Clipping\n",
    "# 'clip_grad_norm' helps pervent the exploding gradoent problem. To be used before optimizer.step()during training\n",
    "torch.nn.utils.clip_grad_norm(model.parameters(), 0.25)"
   ]
  },
  {
   "cell_type": "code",
   "execution_count": 32,
   "metadata": {},
   "outputs": [],
   "source": [
    "# Annealing Learning Rate\n",
    "def step_decay(epoch):\n",
    "    initial_lrate = 0.1\n",
    "    drop = 0.5\n",
    "    epoch_drop = 10.0\n",
    "    lrate = initial_lrate * math.pow(drop, math.floor((1+epoch)/epoch_drop))\n",
    "    return lrate"
   ]
  }
 ],
 "metadata": {
  "kernelspec": {
   "display_name": "Python 3",
   "language": "python",
   "name": "python3"
  },
  "language_info": {
   "codemirror_mode": {
    "name": "ipython",
    "version": 3
   },
   "file_extension": ".py",
   "mimetype": "text/x-python",
   "name": "python",
   "nbconvert_exporter": "python",
   "pygments_lexer": "ipython3",
   "version": "3.8.5"
  }
 },
 "nbformat": 4,
 "nbformat_minor": 4
}
