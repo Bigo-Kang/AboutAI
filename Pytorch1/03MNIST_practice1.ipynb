{
 "cells": [
  {
   "cell_type": "markdown",
   "metadata": {},
   "source": [
    "# MNIST practice"
   ]
  },
  {
   "cell_type": "code",
   "execution_count": 3,
   "metadata": {},
   "outputs": [
    {
     "data": {
      "text/plain": [
       "False"
      ]
     },
     "execution_count": 3,
     "metadata": {},
     "output_type": "execute_result"
    }
   ],
   "source": [
    "import numpy as np\n",
    "import torch\n",
    "import sys\n",
    "import torch.nn as nn\n",
    "import torch.nn.functional as F\n",
    "import torch.optim as optim\n",
    "\n",
    "from torch.utils import data\n",
    "from torchvision import transforms\n",
    "from torchvision.datasets import MNIST\n",
    "\n",
    "import matplotlib.pyplot as plt\n",
    "import time\n",
    "\n",
    "cuda = torch.cuda.is_available()\n",
    "cuda"
   ]
  },
  {
   "cell_type": "code",
   "execution_count": 9,
   "metadata": {},
   "outputs": [
    {
     "name": "stdout",
     "output_type": "stream",
     "text": [
      "[Train Data]\n",
      "- Numpy Shape :  (28, 60000, 28)\n",
      "- Tensor Shape :  torch.Size([28, 60000, 28])\n",
      "- Min :  tensor(0.)\n",
      "- Max :  tensor(1.)\n",
      "- Mean :  tensor(0.1305)\n",
      "- Std :  tensor(0.3081)\n",
      "- Var :  tensor(0.0949)\n",
      "\n",
      "[Train Lables]\n",
      "- Numpy Shape :  (60000,)\n",
      "- Tensor Shape :  torch.Size([60000])\n"
     ]
    },
    {
     "name": "stderr",
     "output_type": "stream",
     "text": [
      "/Users/kangdaewon/opt/anaconda3/envs/tcenv3.8/lib/python3.8/site-packages/torchvision/datasets/mnist.py:45: UserWarning: train_labels has been renamed targets\n",
      "  warnings.warn(\"train_labels has been renamed targets\")\n"
     ]
    }
   ],
   "source": [
    "train = MNIST('./data', train=True, download=True, transform=transforms.ToTensor())\n",
    "\n",
    "test = MNIST('./data', train=False, download=True, transform=transforms.ToTensor())\n",
    "trainData = train.train_data\n",
    "trainData = train.transform(trainData.numpy())\n",
    "\n",
    "print('[Train Data]')\n",
    "print('- Numpy Shape : ', trainData.cpu().numpy().shape)\n",
    "print('- Tensor Shape : ', trainData.size())\n",
    "print('- Min : ', torch.min(trainData))\n",
    "print('- Max : ', torch.max(trainData))\n",
    "print('- Mean : ', torch.mean(trainData))\n",
    "print('- Std : ', torch.std(trainData))\n",
    "print('- Var : ', torch.var(trainData))\n",
    "\n",
    "print('\\n[Train Lables]')\n",
    "print('- Numpy Shape : ', train.train_labels.cpu().numpy().shape)\n",
    "print('- Tensor Shape : ', train.train_labels.size())"
   ]
  },
  {
   "cell_type": "code",
   "execution_count": 13,
   "metadata": {},
   "outputs": [
    {
     "name": "stdout",
     "output_type": "stream",
     "text": [
      "5\n"
     ]
    },
    {
     "data": {
      "image/png": "[encoded data removed]",
      "text/plain": [
       "<Figure size 432x288 with 1 Axes>"
      ]
     },
     "metadata": {
      "needs_background": "light"
     },
     "output_type": "display_data"
    }
   ],
   "source": [
    "# Visuablize a training instance with matplotlib \n",
    "plt.imshow(train.train_data.cpu().numpy()[0], cmap='gray')\n",
    "print(train.train_labels.cpu().numpy()[0])"
   ]
  },
  {
   "cell_type": "code",
   "execution_count": 14,
   "metadata": {},
   "outputs": [
    {
     "name": "stdout",
     "output_type": "stream",
     "text": [
      "0\n"
     ]
    },
    {
     "data": {
      "image/png": "[encoded data removed]",
      "text/plain": [
       "<Figure size 432x288 with 1 Axes>"
      ]
     },
     "metadata": {
      "needs_background": "light"
     },
     "output_type": "display_data"
    }
   ],
   "source": [
    "plt.imshow(train.train_data.cpu().numpy()[1], cmap='gray')\n",
    "print(train.train_labels.cpu().numpy()[1])"
   ]
  },
  {
   "cell_type": "code",
   "execution_count": 15,
   "metadata": {},
   "outputs": [],
   "source": [
    "# Dataloader\n",
    "\n",
    "class MyDataset(data.Dataset):\n",
    "    def __init__(self, X, Y):\n",
    "        self.X = X\n",
    "        self.Y = Y\n",
    "    def __len__(self):\n",
    "        return len(self.Y)\n",
    "    def __getitem__(self, index):\n",
    "        X = self.X[index].float().reshape(-1) #flatten the input\n",
    "        Y = self.Y[index].long()\n",
    "        return X,Y"
   ]
  },
  {
   "cell_type": "code",
   "execution_count": 46,
   "metadata": {},
   "outputs": [
    {
     "name": "stderr",
     "output_type": "stream",
     "text": [
      "/Users/kangdaewon/opt/anaconda3/envs/tcenv3.8/lib/python3.8/site-packages/torchvision/datasets/mnist.py:60: UserWarning: test_data has been renamed data\n",
      "  warnings.warn(\"test_data has been renamed data\")\n",
      "/Users/kangdaewon/opt/anaconda3/envs/tcenv3.8/lib/python3.8/site-packages/torchvision/datasets/mnist.py:50: UserWarning: test_labels has been renamed targets\n",
      "  warnings.warn(\"test_labels has been renamed targets\")\n"
     ]
    }
   ],
   "source": [
    "numWorkers = 8 if cuda else 0\n",
    "\n",
    "# Training\n",
    "trainDataset = MyDataset(train.train_data, train.train_labels)\n",
    "trainLoaderArgs = dict(shuffle=True, batch_size=256, num_workers=numWorkers, pin_memory=True) if cuda\\\n",
    "                  else dict(shuffle=True, batch_size=64)\n",
    "trainLoader = data.DataLoader(trainDataset, **trainLoaderArgs)\n",
    "\n",
    "# Testing\n",
    "testDataset = MyDataset(test.test_data, test.test_labels)\n",
    "testLoaderArgs = dict(shuffle=False, batch_size=256, num_workers=numWorkers, pin_memory=True) if cuda\\\n",
    "                  else dict(shuffle=False, batch_size=1)\n",
    "# When set test, shuffle is False\n",
    "testLoader = data.DataLoader(testDataset, **testLoaderArgs)"
   ]
  },
  {
   "cell_type": "code",
   "execution_count": null,
   "metadata": {},
   "outputs": [],
   "source": [
    "#trainLoader = data.DataLoader(trainDateset, **trainLoaderArgs)\n",
    "#testLoader = data.DataLoader(testDataset, **testLoaderArgs)"
   ]
  },
  {
   "cell_type": "code",
   "execution_count": 47,
   "metadata": {},
   "outputs": [],
   "source": [
    "# Define Neural Network Model\n",
    "# Simple Model Definition\n",
    "class Simple_MLP(nn.Module):\n",
    "    def __init__(self, size_list):\n",
    "        super(Simple_MLP, self).__init__()\n",
    "        layers = []\n",
    "        self.size_list = size_list\n",
    "        for i in range(len(size_list) - 2):\n",
    "            layers.append(nn.Linear(size_list[i], size_list[i+1]))\n",
    "            layers.append(nn.ReLU())\n",
    "        # what is below code?\n",
    "        layers.append(nn.Linear(size_list[-2], size_list[-1]))\n",
    "        self.net = nn.Sequential(*layers)\n",
    "        \n",
    "    def forward(self, x):\n",
    "        return self.net(x)"
   ]
  },
  {
   "cell_type": "code",
   "execution_count": 48,
   "metadata": {},
   "outputs": [
    {
     "name": "stdout",
     "output_type": "stream",
     "text": [
      "Simple_MLP(\n",
      "  (net): Sequential(\n",
      "    (0): Linear(in_features=784, out_features=256, bias=True)\n",
      "    (1): ReLU()\n",
      "    (2): Linear(in_features=256, out_features=10, bias=True)\n",
      "  )\n",
      ")\n"
     ]
    }
   ],
   "source": [
    "# Create the model and define the Loss and Optimizer\n",
    "model = Simple_MLP([784, 256, 10])\n",
    "criterion = nn.CrossEntropyLoss()\n",
    "optimizer = optim.Adam(model.parameters())\n",
    "device = torch.device(\"cuda\" if cuda else \"cpu\")\n",
    "model.to(device)\n",
    "print(model)"
   ]
  },
  {
   "cell_type": "code",
   "execution_count": 49,
   "metadata": {},
   "outputs": [],
   "source": [
    "# Create a function that will train the network for one epoch\n",
    "def train_epoch(model, trainLoader, criterion, optimzer):\n",
    "    model.train()\n",
    "    \n",
    "    runningLoss = 0.0\n",
    "    \n",
    "    startTime = time.time()\n",
    "    for batchIdx, (data, target) in enumerate(trainLoader):\n",
    "        optimizer.zero_grad()\n",
    "        data = data.to(device)\n",
    "        target = target.to(device)\n",
    "        \n",
    "        outputs = model(data)\n",
    "        loss = criterion(outputs, target)\n",
    "        runningLoss += loss.item()\n",
    "        \n",
    "        loss.backward()\n",
    "        optimizer.step()\n",
    "    \n",
    "    end_time = time.time()\n",
    "    \n",
    "    runningLoss /= len(trainLoader)\n",
    "    print('Training Loss : ', runningLoss, 'Time : ', end_time - startTime, 's')\n",
    "    return runningLoss"
   ]
  },
  {
   "cell_type": "code",
   "execution_count": 50,
   "metadata": {},
   "outputs": [],
   "source": [
    "# Create a function that will evaluate our network's performance on the test set\n",
    "def test_model(model, testLoader, criterion):\n",
    "    with torch.no_grad():\n",
    "        model.eval()\n",
    "        \n",
    "        runningLoss = 0.0\n",
    "        totalPredictions = 0.0\n",
    "        correctPredictions = 0.0\n",
    "        \n",
    "        for batchIdx, (data, target) in enumerate(testLoader):\n",
    "            data = data.to(device)\n",
    "            target = target.to(device)\n",
    "            \n",
    "            outputs = model(data)\n",
    "            \n",
    "            _, predicted = torch.max(outputs.data, 1)\n",
    "            totalPredictions += target.size(0)\n",
    "            correctPredictions += (predicted == target).sum().item()\n",
    "            \n",
    "            loss = criterion(outputs, target).detach()\n",
    "            runningLoss += loss.item()\n",
    "            \n",
    "        runningLoss /= len(testLoader)\n",
    "        acc = (correctPredictions/totalPredictions)*100.0\n",
    "        print('Testing Loss : ', runningLoss)\n",
    "        print('Testing Accuracy : ', acc, '%')\n",
    "        return runningLoss, acc"
   ]
  },
  {
   "cell_type": "code",
   "execution_count": 51,
   "metadata": {},
   "outputs": [
    {
     "name": "stdout",
     "output_type": "stream",
     "text": [
      "Training Loss :  0.559401784225234 Time :  2.8858988285064697 s\n",
      "Testing Loss :  0.18683291727788456\n",
      "Testing Accuracy :  95.21 %\n",
      "====================\n",
      "Training Loss :  0.17195734833585602 Time :  3.1850528717041016 s\n",
      "Testing Loss :  0.2186228641929451\n",
      "Testing Accuracy :  94.62 %\n",
      "====================\n",
      "Training Loss :  0.1536391290796569 Time :  3.3439269065856934 s\n",
      "Testing Loss :  0.23225710690086038\n",
      "Testing Accuracy :  94.99 %\n",
      "====================\n",
      "Training Loss :  0.15147535404391976 Time :  3.4497177600860596 s\n",
      "Testing Loss :  0.20835079471619283\n",
      "Testing Accuracy :  95.34 %\n",
      "====================\n",
      "Training Loss :  0.15354415211394162 Time :  3.6370749473571777 s\n",
      "Testing Loss :  0.236838713865547\n",
      "Testing Accuracy :  95.08 %\n",
      "====================\n",
      "Training Loss :  0.14825220400299843 Time :  4.0430920124053955 s\n",
      "Testing Loss :  0.2280929595175512\n",
      "Testing Accuracy :  95.54 %\n",
      "====================\n",
      "Training Loss :  0.1432642964281957 Time :  4.2051520347595215 s\n",
      "Testing Loss :  0.21803487873612776\n",
      "Testing Accuracy :  95.87 %\n",
      "====================\n",
      "Training Loss :  0.13676294223067842 Time :  4.372352123260498 s\n",
      "Testing Loss :  0.2363060216239843\n",
      "Testing Accuracy :  95.64 %\n",
      "====================\n",
      "Training Loss :  0.12437849656984916 Time :  4.532618045806885 s\n",
      "Testing Loss :  0.23283172449071027\n",
      "Testing Accuracy :  96.21 %\n",
      "====================\n",
      "Training Loss :  0.1280218765985018 Time :  4.763474941253662 s\n",
      "Testing Loss :  0.2565757353422602\n",
      "Testing Accuracy :  95.85000000000001 %\n",
      "====================\n",
      "==finish==\n"
     ]
    }
   ],
   "source": [
    "# Train the model for N epochs\n",
    "nEpoch = 10\n",
    "TrainLoss = []\n",
    "TestLoss = []\n",
    "TestAcc = []\n",
    "\n",
    "for i in range(nEpoch):\n",
    "    trainLoss = train_epoch(model, trainLoader, criterion, optimizer)\n",
    "    testLoss, testAcc = test_model(model, testLoader, criterion)\n",
    "    TrainLoss.append(trainLoss)\n",
    "    TestLoss.append(testLoss)\n",
    "    TestAcc.append(testAcc)\n",
    "    print('='*20)\n",
    "print('==finish==')"
   ]
  },
  {
   "cell_type": "code",
   "execution_count": 52,
   "metadata": {},
   "outputs": [
    {
     "data": {
      "text/plain": [
       "[<matplotlib.lines.Line2D at 0x7fb0a9e74c70>]"
      ]
     },
     "execution_count": 52,
     "metadata": {},
     "output_type": "execute_result"
    },
    {
     "data": {
      "image/png": "[encoded data removed]",
      "text/plain": [
       "<Figure size 432x288 with 1 Axes>"
      ]
     },
     "metadata": {
      "needs_background": "light"
     },
     "output_type": "display_data"
    }
   ],
   "source": [
    "plt.title('Training Loss')\n",
    "plt.xlabel('Epoch Number')\n",
    "plt.ylabel('Loss')\n",
    "plt.plot(TrainLoss)"
   ]
  },
  {
   "cell_type": "code",
   "execution_count": 53,
   "metadata": {},
   "outputs": [
    {
     "data": {
      "text/plain": [
       "[<matplotlib.lines.Line2D at 0x7fb0a9f5c610>]"
      ]
     },
     "execution_count": 53,
     "metadata": {},
     "output_type": "execute_result"
    },
    {
     "data": {
      "image/png": "[encoded data removed]",
      "text/plain": [
       "<Figure size 432x288 with 1 Axes>"
      ]
     },
     "metadata": {
      "needs_background": "light"
     },
     "output_type": "display_data"
    }
   ],
   "source": [
    "plt.title('Test Loss')\n",
    "plt.xlabel('Epoch Number')\n",
    "plt.ylabel('Loss')\n",
    "plt.plot(TestLoss)"
   ]
  },
  {
   "cell_type": "code",
   "execution_count": 54,
   "metadata": {},
   "outputs": [
    {
     "data": {
      "text/plain": [
       "[<matplotlib.lines.Line2D at 0x7fb0a9f77df0>]"
      ]
     },
     "execution_count": 54,
     "metadata": {},
     "output_type": "execute_result"
    },
    {
     "data": {
      "image/png": "[encoded data removed]",
      "text/plain": [
       "<Figure size 432x288 with 1 Axes>"
      ]
     },
     "metadata": {
      "needs_background": "light"
     },
     "output_type": "display_data"
    }
   ],
   "source": [
    "plt.title('Test Accuracy')\n",
    "plt.xlabel('Epoch Number')\n",
    "plt.ylabel('Accuracy (%)')\n",
    "plt.plot(TestAcc)"
   ]
  }
 ],
 "metadata": {
  "kernelspec": {
   "display_name": "Python 3",
   "language": "python",
   "name": "python3"
  },
  "language_info": {
   "codemirror_mode": {
    "name": "ipython",
    "version": 3
   },
   "file_extension": ".py",
   "mimetype": "text/x-python",
   "name": "python",
   "nbconvert_exporter": "python",
   "pygments_lexer": "ipython3",
   "version": "3.8.5"
  }
 },
 "nbformat": 4,
 "nbformat_minor": 4
}
