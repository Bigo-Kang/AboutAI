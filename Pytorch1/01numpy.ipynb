{
 "cells": [
  {
   "cell_type": "code",
   "execution_count": 14,
   "metadata": {
    "scrolled": true
   },
   "outputs": [
    {
     "name": "stdout",
     "output_type": "stream",
     "text": [
      "A =\n",
      " [array([[3, 1, 4, 1],\n",
      "       [5, 9, 2, 6],\n",
      "       [5, 3, 5, 8]])\n",
      " array([[9, 7, 9, 3],\n",
      "       [2, 3, 8, 4]])\n",
      " array([[3, 3, 8, 3],\n",
      "       [2, 7, 9, 5],\n",
      "       [0, 2, 8, 8],\n",
      "       [6, 2, 6, 4]])]\n",
      "A =\n",
      " [array([[3, 1, 4, 1],\n",
      "       [5, 9, 2, 6],\n",
      "       [5, 3, 5, 8]])\n",
      " array([[9, 7, 9, 3],\n",
      "       [2, 3, 8, 4]])\n",
      " array([[3, 3, 8, 3],\n",
      "       [2, 7, 9, 5],\n",
      "       [0, 2, 8, 8],\n",
      "       [6, 2, 6, 4]])]\n"
     ]
    }
   ],
   "source": [
    "import numpy as np\n",
    "\n",
    "a1 = np.array([np.array([3, 1, 4, 1]),\n",
    "               np.array([5, 9, 2, 6]),\n",
    "               np.array([5, 3, 5, 8])])\n",
    "\n",
    "a2 = np.array([np.array([9, 7, 9, 3]),\n",
    "               np.array([2, 3, 8, 4])])\n",
    "\n",
    "a3 = np.array([np.array([3, 3, 8, 3]),\n",
    "               np.array([2, 7, 9, 5]),\n",
    "               np.array([0, 2, 8, 8]),\n",
    "               np.array([6, 2, 6, 4])])\n",
    "\n",
    "A = np.array([a1, a2, a3])\n",
    "\n",
    "print(\"A =\\n\", A)\n",
    "print(\"A =\\n\", A.T)"
   ]
  },
  {
   "cell_type": "code",
   "execution_count": 4,
   "metadata": {},
   "outputs": [
    {
     "name": "stdout",
     "output_type": "stream",
     "text": [
      "A = \n",
      " [array([[3, 1, 4, 1],\n",
      "       [5, 9, 2, 6],\n",
      "       [5, 3, 5, 8]])\n",
      " array([[9, 7, 9, 3],\n",
      "       [2, 3, 8, 4]])\n",
      " array([[3, 3, 8, 3],\n",
      "       [2, 7, 9, 5],\n",
      "       [0, 2, 8, 8],\n",
      "       [6, 2, 6, 4]])]\n",
      "A1 = \n",
      " [[[5 9 2 6]\n",
      "  [5 3 5 8]]\n",
      "\n",
      " [[9 7 9 3]\n",
      "  [2 3 8 4]]\n",
      "\n",
      " [[0 2 8 8]\n",
      "  [6 2 6 4]]]\n"
     ]
    }
   ],
   "source": [
    "A1 = [record[-2:] for record in A]\n",
    "A1 = np.array(A1)\n",
    "\n",
    "print(\"A = \\n\", A)\n",
    "print(\"A1 = \\n\", A1)"
   ]
  },
  {
   "cell_type": "code",
   "execution_count": 17,
   "metadata": {},
   "outputs": [
    {
     "name": "stdout",
     "output_type": "stream",
     "text": [
      "A = \n",
      " [array([[3, 1, 4, 1],\n",
      "       [5, 9, 2, 6],\n",
      "       [5, 3, 5, 8]])\n",
      " array([[9, 7, 9, 3],\n",
      "       [2, 3, 8, 4]])\n",
      " array([[3, 3, 8, 3],\n",
      "       [2, 7, 9, 5],\n",
      "       [0, 2, 8, 8],\n",
      "       [6, 2, 6, 4]])]\n",
      "A2 = \n",
      " [[[3 1 4 1]\n",
      "  [5 9 2 6]\n",
      "  [5 3 5 8]\n",
      "  [0 0 0 0]]\n",
      "\n",
      " [[9 7 9 3]\n",
      "  [2 3 8 4]\n",
      "  [0 0 0 0]\n",
      "  [0 0 0 0]]\n",
      "\n",
      " [[3 3 8 3]\n",
      "  [2 7 9 5]\n",
      "  [0 2 8 8]\n",
      "  [6 2 6 4]]]\n",
      "A2^T = \n",
      " [[[3 9 3]\n",
      "  [5 2 2]\n",
      "  [5 0 0]\n",
      "  [0 0 6]]\n",
      "\n",
      " [[1 7 3]\n",
      "  [9 3 7]\n",
      "  [3 0 2]\n",
      "  [0 0 2]]\n",
      "\n",
      " [[4 9 8]\n",
      "  [2 8 9]\n",
      "  [5 0 8]\n",
      "  [0 0 6]]\n",
      "\n",
      " [[1 3 3]\n",
      "  [6 4 5]\n",
      "  [8 0 8]\n",
      "  [0 0 4]]]\n"
     ]
    }
   ],
   "source": [
    "pad_below1 = 4 - len(a1)\n",
    "pad_below2 = 4 - len(a2)\n",
    "pad_below3 = 4 - len(a3)\n",
    "\n",
    "pad_above = 0\n",
    "pad_left = 0\n",
    "pad_right = 0\n",
    "\n",
    "n_add = [((pad_above, pad_below1), (pad_left, pad_right)),\n",
    "         ((pad_above, pad_below2), (pad_left, pad_right)),\n",
    "         ((pad_above, pad_below3), (pad_left, pad_right)),]\n",
    "\n",
    "A2 = [np.pad(A[i], pad_width = n_add[i], mode = 'constant', constant_values = 0) for i in range(3)]\n",
    "A2 = np.array(A2)\n",
    "\n",
    "print(\"A = \\n\", A)\n",
    "print(\"A2 = \\n\", A2)\n",
    "print(\"A2^T = \\n\", A2.T)"
   ]
  },
  {
   "cell_type": "code",
   "execution_count": null,
   "metadata": {},
   "outputs": [],
   "source": []
  }
 ],
 "metadata": {
  "kernelspec": {
   "display_name": "Python 3",
   "language": "python",
   "name": "python3"
  },
  "language_info": {
   "codemirror_mode": {
    "name": "ipython",
    "version": 3
   },
   "file_extension": ".py",
   "mimetype": "text/x-python",
   "name": "python",
   "nbconvert_exporter": "python",
   "pygments_lexer": "ipython3",
   "version": "3.7.6"
  }
 },
 "nbformat": 4,
 "nbformat_minor": 4
}
