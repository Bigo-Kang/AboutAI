{
 "cells": [
  {
   "cell_type": "code",
   "execution_count": 1,
   "metadata": {},
   "outputs": [],
   "source": [
    "import tensorflow.compat.v1 as tf\n",
    "import numpy as np\n",
    "import torch, os\n",
    "import torch.nn as nn"
   ]
  },
  {
   "cell_type": "code",
   "execution_count": 2,
   "metadata": {},
   "outputs": [
    {
     "name": "stdout",
     "output_type": "stream",
     "text": [
      "1.6.0\n",
      "2.3.0\n",
      "WARNING:tensorflow:From /Users/kangdaewon/opt/anaconda3/envs/tcenv3.8/lib/python3.8/site-packages/tensorflow/python/compat/v2_compat.py:96: disable_resource_variables (from tensorflow.python.ops.variable_scope) is deprecated and will be removed in a future version.\n",
      "Instructions for updating:\n",
      "non-resource variables are not supported in the long term\n"
     ]
    }
   ],
   "source": [
    "print(torch.__version__)\n",
    "print(tf.__version__)\n",
    "tf.compat.v1.disable_eager_execution()\n",
    "tf.disable_v2_behavior()  # change tf version 2 -> version1 code."
   ]
  },
  {
   "cell_type": "code",
   "execution_count": 3,
   "metadata": {},
   "outputs": [],
   "source": [
    "def samplePoint(n):\n",
    "    \"\"\"\n",
    "    :param n: Total number of data-points\n",
    "    :return: A tuple(X,y) where X-> [n,2] and y -> [n]\n",
    "    \"\"\"\n",
    "    radius = np.random.uniform(low=0, high=2, size=n).reshape(-1,1) # uniform radius between 0 and 2\n",
    "    angle = np.random.uniform(low=0, high=2*np.pi, size=n).reshape(-1,1) #uniform angle\n",
    "    x1 = radius*np.cos(angle)\n",
    "    x2 = radius*np.sin(angle)\n",
    "    y = (radius<1).astype(int).reshape(-1)\n",
    "    x = np.concatenate([x1, x2], axis=1)\n",
    "    return x,y"
   ]
  },
  {
   "cell_type": "code",
   "execution_count": 4,
   "metadata": {},
   "outputs": [
    {
     "name": "stdout",
     "output_type": "stream",
     "text": [
      "(10000, 2) (10000,)\n"
     ]
    }
   ],
   "source": [
    "# Generating the data\n",
    "X_tr, Y_tr = samplePoint(10000)\n",
    "X_val, Y_val = samplePoint(500)\n",
    "\n",
    "print(X_tr.shape, Y_tr.shape)"
   ]
  },
  {
   "cell_type": "code",
   "execution_count": 5,
   "metadata": {},
   "outputs": [],
   "source": [
    "# Initialize the FlieWriters for \"training\" and \"validation\" routines\n",
    "#trainWriterTf = tf.summary.create_file_writer(\"../log/train\") \n",
    "trainWriterTf = tf.summary.FileWriter(\"../log/train\")\n",
    "# weightInit = tf.glorot_uniform_initializer() -> tf.compat.v1.keras.initializers.glorot_uniform()\n",
    "# lastest using tf.keras.initializers.GlorotUniform() method \n",
    "def buildGraph(nUnits=12, nLayers=2, weightInit=tf.glorot_uniform_initializer(), biasInit=None, activation=tf.nn.relu, learningRate=1e-3\n",
    "              ):\n",
    "    X = tf.compat.v1.placeholder(tf.float32, shape=(None,2), name='X')\n",
    "    Y = tf.compat.v1.placeholder(dtype=tf.int64, shape=[None], name='Y')\n",
    "    gs = tf.compat.v1.train.get_or_create_global_step()\n",
    "    \n",
    "    with tf.compat.v1.variable_scope(\"network\", reuse=tf.compat.v1.AUTO_REUSE):\n",
    "        net = X\n",
    "        for layer in range(nLayers):\n",
    "            net = tf.compat.v1.layers.dense(net, units=nUnits, name=\"LAYER-{}\".format(layer+1),\n",
    "                                 activation=activation,\n",
    "                                 kernel_initializer=weightInit, bias_initializer=biasInit)\n",
    "            logits = tf.compat.v1.layers.dense(net, units=nUnits, name=\"LAYER-Last\", activation=None,\n",
    "                                 kernel_initializer=weightInit, bias_initializer=biasInit)\n",
    "            loss = tf.nn.sparse_softmax_cross_entropy_with_logits(logits=logits, labels=Y)\n",
    "            acc = tf.reduce_mean(tf.cast(tf.equal(tf.argmax(logits,1), Y),tf.float32))\n",
    "            \n",
    "            opt = tf.compat.v1.train.AdamOptimizer(learning_rate=learningRate)\n",
    "            train = opt.minimize(loss, global_step=gs)\n",
    "            \n",
    "            # Evaluating the gradients to log in TensorBoard\n",
    "            grads = opt.compute_gradients(loss)\n",
    "            for grad in grads: tf.summary.histogram(\"{}-grad\".format(grad[1].name), grad[0])\n",
    "            \n",
    "        # Add \"loss\" and \"acc\" as scalar summaries\n",
    "        tf.summary.scalar(\"loss\", tf.reduce_mean(loss))\n",
    "        tf.summary.scalar(\"accuracy\", acc)\n",
    "        \n",
    "        # Collect all trainable variables\n",
    "        allWeights = tf.compat.v1.get_collection(tf.compat.v1.GraphKeys.TRAINABLE_VARIABLES)\n",
    "        for weight in allWeights: tf.summary.histogram(weight.name, weight)\n",
    "        \n",
    "        # Merge all summaries into a single op\n",
    "        summary = tf.compat.v1.summary.merge_all()\n",
    "        \n",
    "        return {\n",
    "            \"X\": X, \"Y\": Y, \"train\": train, \"loss\": tf.reduce_mean(loss), \"acc\": acc,\n",
    "            \"gs\": gs, \"summ\": summary\n",
    "        }"
   ]
  },
  {
   "cell_type": "code",
   "execution_count": 6,
   "metadata": {
    "scrolled": true
   },
   "outputs": [
    {
     "name": "stdout",
     "output_type": "stream",
     "text": [
      "WARNING:tensorflow:From <ipython-input-5-3ca2f1b53a40>:15: dense (from tensorflow.python.keras.legacy_tf_layers.core) is deprecated and will be removed in a future version.\n",
      "Instructions for updating:\n",
      "Use keras.layers.Dense instead.\n",
      "WARNING:tensorflow:From /Users/kangdaewon/opt/anaconda3/envs/tcenv3.8/lib/python3.8/site-packages/tensorflow/python/keras/legacy_tf_layers/core.py:187: Layer.apply (from tensorflow.python.keras.engine.base_layer_v1) is deprecated and will be removed in a future version.\n",
      "Instructions for updating:\n",
      "Please use `layer.__call__` method instead.\n",
      "INFO:tensorflow:Summary name network/LAYER-1/kernel:0-grad is illegal; using network/LAYER-1/kernel_0-grad instead.\n",
      "INFO:tensorflow:Summary name network/LAYER-1/bias:0-grad is illegal; using network/LAYER-1/bias_0-grad instead.\n",
      "INFO:tensorflow:Summary name network/LAYER-Last/kernel:0-grad is illegal; using network/LAYER-Last/kernel_0-grad instead.\n",
      "INFO:tensorflow:Summary name network/LAYER-Last/bias:0-grad is illegal; using network/LAYER-Last/bias_0-grad instead.\n",
      "INFO:tensorflow:Summary name network/LAYER-1/kernel:0-grad is illegal; using network/LAYER-1/kernel_0-grad instead.\n",
      "INFO:tensorflow:Summary name network/LAYER-1/bias:0-grad is illegal; using network/LAYER-1/bias_0-grad instead.\n",
      "INFO:tensorflow:Summary name network/LAYER-Last/kernel:0-grad is illegal; using network/LAYER-Last/kernel_0-grad instead.\n",
      "INFO:tensorflow:Summary name network/LAYER-Last/bias:0-grad is illegal; using network/LAYER-Last/bias_0-grad instead.\n",
      "INFO:tensorflow:Summary name network/LAYER-2/kernel:0-grad is illegal; using network/LAYER-2/kernel_0-grad instead.\n",
      "INFO:tensorflow:Summary name network/LAYER-2/bias:0-grad is illegal; using network/LAYER-2/bias_0-grad instead.\n",
      "INFO:tensorflow:Summary name network/LAYER-1/kernel:0 is illegal; using network/LAYER-1/kernel_0 instead.\n",
      "INFO:tensorflow:Summary name network/LAYER-1/bias:0 is illegal; using network/LAYER-1/bias_0 instead.\n",
      "INFO:tensorflow:Summary name network/LAYER-Last/kernel:0 is illegal; using network/LAYER-Last/kernel_0 instead.\n",
      "INFO:tensorflow:Summary name network/LAYER-Last/bias:0 is illegal; using network/LAYER-Last/bias_0 instead.\n",
      "INFO:tensorflow:Summary name network/LAYER-2/kernel:0 is illegal; using network/LAYER-2/kernel_0 instead.\n",
      "INFO:tensorflow:Summary name network/LAYER-2/bias:0 is illegal; using network/LAYER-2/bias_0 instead.\n"
     ]
    }
   ],
   "source": [
    "def startScalarTraining(epochs=100):\n",
    "    with tf.compat.v1.Session() as sess:\n",
    "        sess.run(tf.compat.v1.global_variables_initializer())\n",
    "        for epoch in range(epochs):\n",
    "            # *train* operands // ops is operations...\n",
    "            gs, _, summary = sess.run([ops[\"gs\"], ops[\"train\"], ops[\"summ\"]], feed_dict={ops[\"X\"]: X_tr, ops[\"Y\"]: Y_tr})\n",
    "            #gs, _, summary = buildGraph(X_tr, Y_tr)\n",
    "            trainWriterTf.add_summary(summary, epoch) #Logging the summary in the event file\n",
    "            trainWriterTf.flush() # Write to disk\n",
    "\n",
    "# Reset graph\n",
    "tf.compat.v1.reset_default_graph()\n",
    "\n",
    "# Build the graph and start training\n",
    "ops = buildGraph(weightInit=tf.random_uniform_initializer(minval=-0.01, maxval=0.01))\n",
    "startScalarTraining(epochs=200)"
   ]
  },
  {
   "cell_type": "code",
   "execution_count": 99,
   "metadata": {},
   "outputs": [
    {
     "name": "stdout",
     "output_type": "stream",
     "text": [
      "INFO:tensorflow:Summary name network/LAYER-1/kernel:0-grad is illegal; using network/LAYER-1/kernel_0-grad instead.\n",
      "INFO:tensorflow:Summary name network/LAYER-1/bias:0-grad is illegal; using network/LAYER-1/bias_0-grad instead.\n",
      "INFO:tensorflow:Summary name network/LAYER-Last/kernel:0-grad is illegal; using network/LAYER-Last/kernel_0-grad instead.\n",
      "INFO:tensorflow:Summary name network/LAYER-Last/bias:0-grad is illegal; using network/LAYER-Last/bias_0-grad instead.\n",
      "INFO:tensorflow:Summary name network/LAYER-1/kernel:0-grad is illegal; using network/LAYER-1/kernel_0-grad instead.\n",
      "INFO:tensorflow:Summary name network/LAYER-1/bias:0-grad is illegal; using network/LAYER-1/bias_0-grad instead.\n",
      "INFO:tensorflow:Summary name network/LAYER-Last/kernel:0-grad is illegal; using network/LAYER-Last/kernel_0-grad instead.\n",
      "INFO:tensorflow:Summary name network/LAYER-Last/bias:0-grad is illegal; using network/LAYER-Last/bias_0-grad instead.\n",
      "INFO:tensorflow:Summary name network/LAYER-2/kernel:0-grad is illegal; using network/LAYER-2/kernel_0-grad instead.\n",
      "INFO:tensorflow:Summary name network/LAYER-2/bias:0-grad is illegal; using network/LAYER-2/bias_0-grad instead.\n",
      "INFO:tensorflow:Summary name network/LAYER-1/kernel:0-grad is illegal; using network/LAYER-1/kernel_0-grad instead.\n",
      "INFO:tensorflow:Summary name network/LAYER-1/bias:0-grad is illegal; using network/LAYER-1/bias_0-grad instead.\n",
      "INFO:tensorflow:Summary name network/LAYER-Last/kernel:0-grad is illegal; using network/LAYER-Last/kernel_0-grad instead.\n",
      "INFO:tensorflow:Summary name network/LAYER-Last/bias:0-grad is illegal; using network/LAYER-Last/bias_0-grad instead.\n",
      "INFO:tensorflow:Summary name network/LAYER-2/kernel:0-grad is illegal; using network/LAYER-2/kernel_0-grad instead.\n",
      "INFO:tensorflow:Summary name network/LAYER-2/bias:0-grad is illegal; using network/LAYER-2/bias_0-grad instead.\n",
      "INFO:tensorflow:Summary name network/LAYER-3/kernel:0-grad is illegal; using network/LAYER-3/kernel_0-grad instead.\n",
      "INFO:tensorflow:Summary name network/LAYER-3/bias:0-grad is illegal; using network/LAYER-3/bias_0-grad instead.\n",
      "INFO:tensorflow:Summary name network/LAYER-1/kernel:0-grad is illegal; using network/LAYER-1/kernel_0-grad instead.\n",
      "INFO:tensorflow:Summary name network/LAYER-1/bias:0-grad is illegal; using network/LAYER-1/bias_0-grad instead.\n",
      "INFO:tensorflow:Summary name network/LAYER-Last/kernel:0-grad is illegal; using network/LAYER-Last/kernel_0-grad instead.\n",
      "INFO:tensorflow:Summary name network/LAYER-Last/bias:0-grad is illegal; using network/LAYER-Last/bias_0-grad instead.\n",
      "INFO:tensorflow:Summary name network/LAYER-2/kernel:0-grad is illegal; using network/LAYER-2/kernel_0-grad instead.\n",
      "INFO:tensorflow:Summary name network/LAYER-2/bias:0-grad is illegal; using network/LAYER-2/bias_0-grad instead.\n",
      "INFO:tensorflow:Summary name network/LAYER-3/kernel:0-grad is illegal; using network/LAYER-3/kernel_0-grad instead.\n",
      "INFO:tensorflow:Summary name network/LAYER-3/bias:0-grad is illegal; using network/LAYER-3/bias_0-grad instead.\n",
      "INFO:tensorflow:Summary name network/LAYER-4/kernel:0-grad is illegal; using network/LAYER-4/kernel_0-grad instead.\n",
      "INFO:tensorflow:Summary name network/LAYER-4/bias:0-grad is illegal; using network/LAYER-4/bias_0-grad instead.\n",
      "INFO:tensorflow:Summary name network/LAYER-1/kernel:0-grad is illegal; using network/LAYER-1/kernel_0-grad instead.\n",
      "INFO:tensorflow:Summary name network/LAYER-1/bias:0-grad is illegal; using network/LAYER-1/bias_0-grad instead.\n",
      "INFO:tensorflow:Summary name network/LAYER-Last/kernel:0-grad is illegal; using network/LAYER-Last/kernel_0-grad instead.\n",
      "INFO:tensorflow:Summary name network/LAYER-Last/bias:0-grad is illegal; using network/LAYER-Last/bias_0-grad instead.\n",
      "INFO:tensorflow:Summary name network/LAYER-2/kernel:0-grad is illegal; using network/LAYER-2/kernel_0-grad instead.\n",
      "INFO:tensorflow:Summary name network/LAYER-2/bias:0-grad is illegal; using network/LAYER-2/bias_0-grad instead.\n",
      "INFO:tensorflow:Summary name network/LAYER-3/kernel:0-grad is illegal; using network/LAYER-3/kernel_0-grad instead.\n",
      "INFO:tensorflow:Summary name network/LAYER-3/bias:0-grad is illegal; using network/LAYER-3/bias_0-grad instead.\n",
      "INFO:tensorflow:Summary name network/LAYER-4/kernel:0-grad is illegal; using network/LAYER-4/kernel_0-grad instead.\n",
      "INFO:tensorflow:Summary name network/LAYER-4/bias:0-grad is illegal; using network/LAYER-4/bias_0-grad instead.\n",
      "INFO:tensorflow:Summary name network/LAYER-5/kernel:0-grad is illegal; using network/LAYER-5/kernel_0-grad instead.\n",
      "INFO:tensorflow:Summary name network/LAYER-5/bias:0-grad is illegal; using network/LAYER-5/bias_0-grad instead.\n",
      "INFO:tensorflow:Summary name network/LAYER-1/kernel:0 is illegal; using network/LAYER-1/kernel_0 instead.\n",
      "INFO:tensorflow:Summary name network/LAYER-1/bias:0 is illegal; using network/LAYER-1/bias_0 instead.\n",
      "INFO:tensorflow:Summary name network/LAYER-Last/kernel:0 is illegal; using network/LAYER-Last/kernel_0 instead.\n",
      "INFO:tensorflow:Summary name network/LAYER-Last/bias:0 is illegal; using network/LAYER-Last/bias_0 instead.\n",
      "INFO:tensorflow:Summary name network/LAYER-2/kernel:0 is illegal; using network/LAYER-2/kernel_0 instead.\n",
      "INFO:tensorflow:Summary name network/LAYER-2/bias:0 is illegal; using network/LAYER-2/bias_0 instead.\n",
      "INFO:tensorflow:Summary name network/LAYER-3/kernel:0 is illegal; using network/LAYER-3/kernel_0 instead.\n",
      "INFO:tensorflow:Summary name network/LAYER-3/bias:0 is illegal; using network/LAYER-3/bias_0 instead.\n",
      "INFO:tensorflow:Summary name network/LAYER-4/kernel:0 is illegal; using network/LAYER-4/kernel_0 instead.\n",
      "INFO:tensorflow:Summary name network/LAYER-4/bias:0 is illegal; using network/LAYER-4/bias_0 instead.\n",
      "INFO:tensorflow:Summary name network/LAYER-5/kernel:0 is illegal; using network/LAYER-5/kernel_0 instead.\n",
      "INFO:tensorflow:Summary name network/LAYER-5/bias:0 is illegal; using network/LAYER-5/bias_0 instead.\n"
     ]
    }
   ],
   "source": [
    "# Random uniform initialization of biases and using Glorot initialization for Weight matrices.\n",
    "trainWriterTf = tf.summary.FileWriter(\"../log/train_5_layers\")\n",
    "\n",
    "# Reset graph\n",
    "tf.reset_default_graph()\n",
    "\n",
    "# Build th egraph and start training\n",
    "ops = buildGraph(nUnits=12, nLayers=5, biasInit=tf.random_uniform_initializer(minval=-0.2, maxval=0.2))\n",
    "startScalarTraining(epochs=200)"
   ]
  },
  {
   "cell_type": "code",
   "execution_count": 7,
   "metadata": {},
   "outputs": [
    {
     "name": "stdout",
     "output_type": "stream",
     "text": [
      "INFO:tensorflow:Summary name network/LAYER-1/kernel:0-grad is illegal; using network/LAYER-1/kernel_0-grad instead.\n",
      "INFO:tensorflow:Summary name network/LAYER-1/bias:0-grad is illegal; using network/LAYER-1/bias_0-grad instead.\n",
      "INFO:tensorflow:Summary name network/LAYER-Last/kernel:0-grad is illegal; using network/LAYER-Last/kernel_0-grad instead.\n",
      "INFO:tensorflow:Summary name network/LAYER-Last/bias:0-grad is illegal; using network/LAYER-Last/bias_0-grad instead.\n",
      "INFO:tensorflow:Summary name network/LAYER-1/kernel:0-grad is illegal; using network/LAYER-1/kernel_0-grad instead.\n",
      "INFO:tensorflow:Summary name network/LAYER-1/bias:0-grad is illegal; using network/LAYER-1/bias_0-grad instead.\n",
      "INFO:tensorflow:Summary name network/LAYER-Last/kernel:0-grad is illegal; using network/LAYER-Last/kernel_0-grad instead.\n",
      "INFO:tensorflow:Summary name network/LAYER-Last/bias:0-grad is illegal; using network/LAYER-Last/bias_0-grad instead.\n",
      "INFO:tensorflow:Summary name network/LAYER-2/kernel:0-grad is illegal; using network/LAYER-2/kernel_0-grad instead.\n",
      "INFO:tensorflow:Summary name network/LAYER-2/bias:0-grad is illegal; using network/LAYER-2/bias_0-grad instead.\n",
      "INFO:tensorflow:Summary name network/LAYER-1/kernel:0 is illegal; using network/LAYER-1/kernel_0 instead.\n",
      "INFO:tensorflow:Summary name network/LAYER-1/bias:0 is illegal; using network/LAYER-1/bias_0 instead.\n",
      "INFO:tensorflow:Summary name network/LAYER-Last/kernel:0 is illegal; using network/LAYER-Last/kernel_0 instead.\n",
      "INFO:tensorflow:Summary name network/LAYER-Last/bias:0 is illegal; using network/LAYER-Last/bias_0 instead.\n",
      "INFO:tensorflow:Summary name network/LAYER-2/kernel:0 is illegal; using network/LAYER-2/kernel_0 instead.\n",
      "INFO:tensorflow:Summary name network/LAYER-2/bias:0 is illegal; using network/LAYER-2/bias_0 instead.\n",
      "INFO:tensorflow:Summary name network/LAYER-1/kernel:0-grad is illegal; using network/LAYER-1/kernel_0-grad instead.\n",
      "INFO:tensorflow:Summary name network/LAYER-1/bias:0-grad is illegal; using network/LAYER-1/bias_0-grad instead.\n",
      "INFO:tensorflow:Summary name network/LAYER-Last/kernel:0-grad is illegal; using network/LAYER-Last/kernel_0-grad instead.\n",
      "INFO:tensorflow:Summary name network/LAYER-Last/bias:0-grad is illegal; using network/LAYER-Last/bias_0-grad instead.\n",
      "INFO:tensorflow:Summary name network/LAYER-1/kernel:0-grad is illegal; using network/LAYER-1/kernel_0-grad instead.\n",
      "INFO:tensorflow:Summary name network/LAYER-1/bias:0-grad is illegal; using network/LAYER-1/bias_0-grad instead.\n",
      "INFO:tensorflow:Summary name network/LAYER-Last/kernel:0-grad is illegal; using network/LAYER-Last/kernel_0-grad instead.\n",
      "INFO:tensorflow:Summary name network/LAYER-Last/bias:0-grad is illegal; using network/LAYER-Last/bias_0-grad instead.\n",
      "INFO:tensorflow:Summary name network/LAYER-2/kernel:0-grad is illegal; using network/LAYER-2/kernel_0-grad instead.\n",
      "INFO:tensorflow:Summary name network/LAYER-2/bias:0-grad is illegal; using network/LAYER-2/bias_0-grad instead.\n",
      "INFO:tensorflow:Summary name network/LAYER-1/kernel:0 is illegal; using network/LAYER-1/kernel_0 instead.\n",
      "INFO:tensorflow:Summary name network/LAYER-1/bias:0 is illegal; using network/LAYER-1/bias_0 instead.\n",
      "INFO:tensorflow:Summary name network/LAYER-Last/kernel:0 is illegal; using network/LAYER-Last/kernel_0 instead.\n",
      "INFO:tensorflow:Summary name network/LAYER-Last/bias:0 is illegal; using network/LAYER-Last/bias_0 instead.\n",
      "INFO:tensorflow:Summary name network/LAYER-2/kernel:0 is illegal; using network/LAYER-2/kernel_0 instead.\n",
      "INFO:tensorflow:Summary name network/LAYER-2/bias:0 is illegal; using network/LAYER-2/bias_0 instead.\n",
      "INFO:tensorflow:Summary name network/LAYER-1/kernel:0-grad is illegal; using network/LAYER-1/kernel_0-grad instead.\n",
      "INFO:tensorflow:Summary name network/LAYER-1/bias:0-grad is illegal; using network/LAYER-1/bias_0-grad instead.\n",
      "INFO:tensorflow:Summary name network/LAYER-Last/kernel:0-grad is illegal; using network/LAYER-Last/kernel_0-grad instead.\n",
      "INFO:tensorflow:Summary name network/LAYER-Last/bias:0-grad is illegal; using network/LAYER-Last/bias_0-grad instead.\n",
      "INFO:tensorflow:Summary name network/LAYER-1/kernel:0-grad is illegal; using network/LAYER-1/kernel_0-grad instead.\n",
      "INFO:tensorflow:Summary name network/LAYER-1/bias:0-grad is illegal; using network/LAYER-1/bias_0-grad instead.\n",
      "INFO:tensorflow:Summary name network/LAYER-Last/kernel:0-grad is illegal; using network/LAYER-Last/kernel_0-grad instead.\n",
      "INFO:tensorflow:Summary name network/LAYER-Last/bias:0-grad is illegal; using network/LAYER-Last/bias_0-grad instead.\n",
      "INFO:tensorflow:Summary name network/LAYER-2/kernel:0-grad is illegal; using network/LAYER-2/kernel_0-grad instead.\n",
      "INFO:tensorflow:Summary name network/LAYER-2/bias:0-grad is illegal; using network/LAYER-2/bias_0-grad instead.\n",
      "INFO:tensorflow:Summary name network/LAYER-1/kernel:0 is illegal; using network/LAYER-1/kernel_0 instead.\n",
      "INFO:tensorflow:Summary name network/LAYER-1/bias:0 is illegal; using network/LAYER-1/bias_0 instead.\n",
      "INFO:tensorflow:Summary name network/LAYER-Last/kernel:0 is illegal; using network/LAYER-Last/kernel_0 instead.\n",
      "INFO:tensorflow:Summary name network/LAYER-Last/bias:0 is illegal; using network/LAYER-Last/bias_0 instead.\n",
      "INFO:tensorflow:Summary name network/LAYER-2/kernel:0 is illegal; using network/LAYER-2/kernel_0 instead.\n",
      "INFO:tensorflow:Summary name network/LAYER-2/bias:0 is illegal; using network/LAYER-2/bias_0 instead.\n"
     ]
    }
   ],
   "source": [
    "# Using Different Activation function\n",
    "\n",
    "#Logging for all Activations\n",
    "#0.1\n",
    "trainWriterTf = tf.summary.FileWriter(\"../log/trainSigmoid\")\n",
    "\n",
    "# Reset graph\n",
    "tf.reset_default_graph()\n",
    "\n",
    "# Build the graph and start training\n",
    "ops = buildGraph(biasInit=tf.random_uniform_initializer(minval=-0.2, maxval=0.2), activation=tf.nn.sigmoid)\n",
    "startScalarTraining(epochs=200)\n",
    "\n",
    "#0.2\n",
    "trainWriterTf = tf.summary.FileWriter(\"../log/trainTanh\")\n",
    "\n",
    "# Reset graph\n",
    "tf.reset_default_graph()\n",
    "\n",
    "# Build the graph and start training\n",
    "ops = buildGraph(biasInit=tf.random_uniform_initializer(minval=-0.2, maxval=0.2), activation=tf.nn.tanh)\n",
    "startScalarTraining(epochs=200)\n",
    "\n",
    "#0.3\n",
    "trainWriterTf = tf.summary.FileWriter(\"../log/trainLrelu\")\n",
    "\n",
    "# Reset graph\n",
    "tf.reset_default_graph()\n",
    "\n",
    "# Build the graph and start training\n",
    "ops = buildGraph(biasInit=tf.random_uniform_initializer(minval=-0.2, maxval=0.2), activation=tf.nn.leaky_relu)\n",
    "startScalarTraining(epochs=200)\n"
   ]
  },
  {
   "cell_type": "code",
   "execution_count": 13,
   "metadata": {},
   "outputs": [],
   "source": [
    "# Using TensroBoardX in Pytorch\n",
    "import numpy as np\n",
    "from tensorboardX import SummaryWriter"
   ]
  },
  {
   "cell_type": "code",
   "execution_count": 15,
   "metadata": {},
   "outputs": [
    {
     "name": "stdout",
     "output_type": "stream",
     "text": [
      "torch.FloatTensor torch.LongTensor\n"
     ]
    }
   ],
   "source": [
    "def generateSingleHiddenMLP(nHiddenNeurons):\n",
    "    return nn.Sequential(nn.Linear(2,nHiddenNeurons), nn.ReLU(), nn.Linear(nHiddenNeurons, 2))\n",
    "trainx = torch.from_numpy(X_tr).float()\n",
    "valx = torch.from_numpy(X_val).float()\n",
    "trainy = torch.from_numpy(Y_tr)\n",
    "valy = torch.from_numpy(Y_val)\n",
    "\n",
    "tLog, vLog = SummaryWriter(\"../log/train_pytorch\"), SummaryWriter(\"../log/val_pytorch\")\n",
    "\n",
    "model1 = generateSingleHiddenMLP(6)\n",
    "print(trainx.type(), trainy.type())"
   ]
  },
  {
   "cell_type": "code",
   "execution_count": 16,
   "metadata": {},
   "outputs": [],
   "source": [
    "def trainingRoutine(net, dataset, nIters, gpu):\n",
    "    # organize the data\n",
    "    trainData, trainLabels, valData, valLabels = dataset\n",
    "    \n",
    "    criterion = nn.CrossEntropyLoss()\n",
    "    optimizer = torch.optim.SGD(net.parameters(), lr=0.01)\n",
    "    \n",
    "    # use the flag\n",
    "    if gpu:\n",
    "        trainData, trainLabels = trainData.cuda(), trainLabels.cuda()\n",
    "        valData, valLabels = valData.cuda(), valLabels.cuda()\n",
    "        net = net.cuda() # the network parameters also need to be on the gpu\n",
    "    \n",
    "    for i in range(nIters):\n",
    "        # Forward pass\n",
    "        trainOutput = net(trainData)\n",
    "        trainLoss = criterion(trainOutput, trainLabels)\n",
    "        # Backward pass and optimization\n",
    "        trainLoss.backward()\n",
    "        optimizer.step()\n",
    "        optimizer.zero_grad()\n",
    "        \n",
    "        #Once very 100 iterations, log values\n",
    "        if i%100==0:\n",
    "            # compute the accuracy of the perdiction\n",
    "            trainPrediction = trainOutput.cpu().detach().argmax(dim=1)\n",
    "            trainAccuracy = (trainPrediction.numpy()==trainLabels.numpy()).mean()\n",
    "            # Now for the validation set\n",
    "            valOutput = net(valData)\n",
    "            valLoss = criterion(valOutput, valLabels)\n",
    "            # compute accuracy of the prediction\n",
    "            valPrediction = valOutput.cpu().detach().argmax(dim=1)\n",
    "            valAccuracy = (valPrediction.numpy()==valLabels.numpy()).mean()\n",
    "            \n",
    "            # 1. Log scalar values (scalar summary)\n",
    "            trInfo = {'loss': trainLoss.cpu().detach().numpy(), 'accuracy': trainAccuracy}\n",
    "            \n",
    "            for tag, value in trInfo.items():\n",
    "                tLog.add_scalar(tag, value, i+1)\n",
    "                \n",
    "            # 2. Log values and gradients of the parameters (histogram summary)\n",
    "            for tag, value in net.named_parameters():\n",
    "                tag = tag.replace('.', '/')\n",
    "                tLog.add_histogram(tag, value.data.cpu().numpy(), i+1)\n",
    "                tLog.add_histogram(tag+'/grad', value.grad.data.cpu().numpy(), i+1)\n",
    "        \n",
    "    net = net.cpu()"
   ]
  },
  {
   "cell_type": "code",
   "execution_count": 17,
   "metadata": {},
   "outputs": [],
   "source": [
    "dataset = trainx, trainy, valx, valy\n",
    "gpu = False\n",
    "gpu = gpu and torch.cuda.is_available()\n",
    "\n",
    "trainingRoutine(model1, dataset, 1000, gpu)"
   ]
  }
 ],
 "metadata": {
  "kernelspec": {
   "display_name": "Python 3",
   "language": "python",
   "name": "python3"
  },
  "language_info": {
   "codemirror_mode": {
    "name": "ipython",
    "version": 3
   },
   "file_extension": ".py",
   "mimetype": "text/x-python",
   "name": "python",
   "nbconvert_exporter": "python",
   "pygments_lexer": "ipython3",
   "version": "3.8.5"
  }
 },
 "nbformat": 4,
 "nbformat_minor": 4
}
